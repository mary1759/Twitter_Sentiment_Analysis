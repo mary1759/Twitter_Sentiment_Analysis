# Importing libraries

import pandas as pd
import numpy as np
import seaborn as sns
import matplotlib.pyplot as plt
from jupyterthemes import jtplot
jtplot.style(theme='monokai', context='notebook', ticks=True, grid=False) 
# setting the style of the notebook to be monokai theme  
# this line of code is important to ensure that we are able to see the x and y axes clearly
# If you don't run this code line, you will notice that the xlabel and ylabel on any plot is black on black

# Load the data
tweets_df = pd.read_csv('twitter.csv')
tweets_df
tweets_df.info()
tweets_df.describe()
tweets_df['tweet']

# Explore dataset
sns.heatmap(tweets_df.isnull(), yticklabels = False, cbar = False, cmap="Blues")
tweets_df.hist(bins = 30, figsize = (13,5), color = 'r')
sns.countplot(tweets_df['label'], label = 'Count')

# Let's get the length of the messages
tweets_df['length'] = tweets_df['tweet'].apply(len)
tweets_df['length'].plot(bins=100, kind='hist') 
tweets_df.describe()

# Let's see the shortest message 
tweets_df[tweets_df['length'] == 11]['tweet'].iloc[0]

# TASK 4: PLOT THE WORDCLOUD
sentences = tweets_df['tweet'].tolist()
sentences
sentences_as_one_string = ''.join(sentences)

!pip install WordCloud
from wordcloud import WordCloud

plt.figure(figsize=(20,20))
plt.imshow(WordCloud().generate(sentences_as_one_string))

# TASK 5: PERFORM DATA CLEANING - REMOVE PUNCTUATION FROM TEXT
Test = 'Good morning beautiful people :)... I am having fun learning Machine learning and AI!!'
Test_punc_removed = [char for char in Test if char not in string.punctuation]
Test_punc_removed

# Join the characters again to form the string.
Test_punc_removed_join = ''.join(Test_punc_removed)
Test_punc_removed_join

# TASK 6: PERFORM DATA CLEANING - REMOVE STOPWORDS
import nltk # Natural Language tool kit 
nltk.download('stopwords')

# You have to download stopwords Package to execute this command
from nltk.corpus import stopwords
stopwords.words('english')
Test_punc_removed_join_clean = [word for word in Test_punc_removed_join.split() if word.lower() not in stopwords.words('english')]
Test_punc_removed_join_clean

#TASK 7: PERFORM COUNT VECTORIZATION (TOKENIZATION)
from sklearn.feature_extraction.text import CountVectorizer
sample_data = ['This is the first paper.','This document is the second paper.','And this is the third one.','Is this the first paper?']

vectorizer = CountVectorizer()
X = vectorizer.fit_transform(sample_data)
print(vectorizer.get_feature_names())
print(X.toarray())

#TASK 8: CREATE A PIPELINE TO REMOVE PUNCTUATIONS, STOPWORDS AND PERFORM COUNT VECTORIZATION
# Let's define a pipeline to clean up all the messages 
# The pipeline performs the following: (1) remove punctuation, (2) remove stopwords

def message_cleaning(message):
    Test_punc_removed = [char for char in message if char not in string.punctuation]
    Test_punc_removed_join = ''.join(Test_punc_removed)
    Test_punc_removed_join_clean = [word for word in Test_punc_removed_join.split() if word.lower() not in stopwords.words('english')]
    return Test_punc_removed_join_clean

# Let's test the newly added function
tweets_df_clean = tweets_df['tweet'].apply(message_cleaning)

from sklearn.feature_extraction.text import CountVectorizer

# Define the cleaning pipeline we defined earlier
vectorizer = CountVectorizer(analyzer = message_cleaning)
tweets_countvectorizer = CountVectorizer(analyzer = message_cleaning, dtype = 'uint8').fit_transform(tweets_df['tweet']).toarray()

X = tweets_countvectorizer
y = tweets_df['label']

#TASK 09: TRAIN A NAIVE BAYES CLASSIFIER MODEL
from sklearn.model_selection import train_test_split
X_train, X_test, y_train, y_test = train_test_split(X, y, test_size=0.2)

from sklearn.naive_bayes import MultinomialNB

NB_classifier = MultinomialNB()
NB_classifier.fit(X_train, y_train)

#TASK 10: ASSESS TRAINED MODEL PERFORMANCE
from sklearn.metrics import classification_report, confusion_matrix

# Predicting the Test set results
y_predict_test = NB_classifier.predict(X_test)
cm = confusion_matrix(y_test, y_predict_test)
sns.heatmap(cm, annot=True)
print(classification_report(y_test, y_predict_test))
